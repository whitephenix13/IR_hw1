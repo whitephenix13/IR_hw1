{
 "cells": [
  {
   "cell_type": "markdown",
   "metadata": {},
   "source": [
    " # Homework 1 Code and Report\n",
    " \n",
    "AUFAR rezka and LASBLEIS Alexandre "
   ]
  },
  {
   "cell_type": "markdown",
   "metadata": {},
   "source": [
    "### Step 1 : Simulate Rankings of Relevance for E and P (5 points)\n",
    "    \n",
    "In the first step you will generate pair s of rankings of relevance, for the production P and experimental E, <br>\n",
    "respectively, for a hypothetical query q . Assume a 3-graded relevance, i.e. {N, R, HR}. Construct all\n",
    "possible P and E ranking pairs of length 5, for which E outperforms P.\n",
    "\n",
    "Example:<br>\n",
    "P: {N N N N N}<br>\n",
    "E: {N N N N R}<br>\n",
    "… <br>\n",
    "P: {HR HR HR HR R}<br>\n",
    "E: {HR HR HR HR HR}<br>\n",
    "\n",
    "(Note 1: If you do not have enough computational power, sample 1000 pair uniformly at random to show\n",
    "your work.)\n",
    "##### Code"
   ]
  },
  {
   "cell_type": "code",
   "execution_count": 1,
   "metadata": {
    "collapsed": true
   },
   "outputs": [],
   "source": [
    "import itertools\n",
    "import random\n",
    "import numpy as np"
   ]
  },
  {
   "cell_type": "code",
   "execution_count": 2,
   "metadata": {
    "collapsed": true
   },
   "outputs": [],
   "source": [
    "#convert int to relevance\n",
    "#_list : list of integer to be converted\n",
    "#return : list of string where every integer has been replaced by its relevance interpretation\n",
    "def calculate_value(q):\n",
    "    res = []\n",
    "    for i, elem in enumerate(q):\n",
    "        if elem == 'HR':\n",
    "            res.append(2)\n",
    "        if elem == 'R':\n",
    "            res.append(1)\n",
    "        if elem == 'N':\n",
    "            res.append(0)\n",
    "    return res\n",
    "\n",
    "  \"\\n\",\n",
    "    \" \"def to_string(_list): \\n\",\n",
    "    \"    L=[]\\n\",\n",
    "    \"    for i in _list:\\n\",\n",
    "    \"        if i==0:\\n\",\n",
    "    \"            L.append(\\\"N \\\")\\n\",\n",
    "    \"        elif i==1:\\n\",\n",
    "    \"            L.append(\\\"R \\\")\\n\",\n",
    "    \"        elif i==2:\\n\",\n",
    "    \"            L.append(\\\"HR\\\")\\n\",\n",
    "    \"        else: \\n\",\n",
    "    \"            L.append(\\\"? \\\")\\n\",\n",
    "    \"    return L\""
   ]
  },
  {
   "cell_type": "code",
   "execution_count": 3,
   "metadata": {
    "collapsed": false
   },
   "outputs": [],
   "source": [
    "graded_relevance = [\"HR\", \"R\", \"N\"]\n",
    "num_of_results = 5\n",
    "\n",
    "combination_data = itertools.product(graded_relevance, repeat=num_of_results*2)\n",
    "P = []\n",
    "E = []\n",
    "\n",
    "for combination in combination_data:\n",
    "    P.append(combination[0:num_of_results])\n",
    "    E.append(combination[num_of_results:num_of_results*2])"
   ]
  },
  {
   "cell_type": "code",
   "execution_count": 7,
   "metadata": {
    "collapsed": false
   },
   "outputs": [
    {
     "name": "stdout",
     "output_type": "stream",
     "text": [
      "('R', 'N', 'N', 'HR', 'HR')\n",
      "[2, 0, 0, 0, 2]\n"
     ]
    }
   ],
   "source": [
    "print random.choice(P)\n",
    "P_data = calculate_value(random.choice(P))\n",
    "E_data = calculate_value(random.choice(E))\n",
    "print P_data"
   ]
  },
  {
   "cell_type": "code",
   "execution_count": null,
   "metadata": {
    "collapsed": true
   },
   "outputs": [],
   "source": [
    "print P_data"
   ]
  },
  {
   "cell_type": "markdown",
   "metadata": {},
   "source": [
    "# Step 2"
   ]
  },
  {
   "cell_type": "code",
   "execution_count": 10,
   "metadata": {
    "collapsed": false
   },
   "outputs": [],
   "source": [
    "def precision(k, data):\n",
    "    assert k != 0\n",
    "    assert k <= len(data)\n",
    "    relevant = 0\n",
    "    for i, elem in enumerate(data):\n",
    "        if(elem > 0 and i < k):\n",
    "            relevant += 1\n",
    "    return float(relevant) / k\n",
    "\n",
    "def recall(k, data):\n",
    "    assert k != 0\n",
    "    assert k <= len(data)\n",
    "    total_relevant, relevant = 0, 0\n",
    "    for i, elem in enumerate(data):\n",
    "        if(elem > 0):\n",
    "            total_relevant += 1\n",
    "            if(i < k):\n",
    "                relevant += 1\n",
    "    return float(relevant) / float(total_relevant)\n",
    "\n",
    "def average_precision(k, data):\n",
    "    assert k != 0\n",
    "    assert k <= len(data)\n",
    "    total_relevant, relevant, ap_score, temp = 0, 0, 0, \"\"\n",
    "    for i, elem in enumerate(data):\n",
    "        if(elem > 0):\n",
    "            total_relevant += 1\n",
    "            if(i < k):\n",
    "                relevant += 1\n",
    "                ap_score += float(relevant) / (i + 1.0)\n",
    "    return float(ap_score) / float(total_relevant)\n",
    "\n",
    "def dcg(k, data):\n",
    "    assert k != 0\n",
    "    assert k <= len(data)\n",
    "    relative_gain = 0\n",
    "    for i, elem in enumerate(data):\n",
    "        if(i < k):\n",
    "            #relative_gain += float(np.power(2,elem)-1) / float(np.log2(i + 2))\n",
    "            relative_gain += elem / float(np.log2(i + 2))\n",
    "    return relative_gain\n",
    "\n",
    "def ndcg(k, data):\n",
    "    assert k != 0\n",
    "    assert k <= len(data)\n",
    "    dcg_gain, relative_gain = dcg(k, data), 0\n",
    "    ordered_data = list(data)\n",
    "    ordered_data.sort(reverse=True)\n",
    "    for i, elem in enumerate(ordered_data):\n",
    "        if(i < k):\n",
    "            #relative_gain += float(np.power(2,elem)-1) / float(np.log2(i + 2))\n",
    "            relative_gain += elem / float(np.log2(i + 2))\n",
    "    return dcg_gain / relative_gain\n",
    "\n",
    "def rbp(k, data):\n",
    "    assert k != 0\n",
    "    assert k <= len(data)\n",
    "    "
   ]
  },
  {
   "cell_type": "code",
   "execution_count": 11,
   "metadata": {
    "collapsed": false
   },
   "outputs": [
    {
     "name": "stdout",
     "output_type": "stream",
     "text": [
      "0.666666666667\n",
      "0.4\n",
      "0.308333333333\n",
      "6.86112668859\n",
      "0.960808194336\n"
     ]
    }
   ],
   "source": [
    "test= [2,0,2,1,0,1,0,0,0,1,0,1,1,0,1,0,0,1,0,1]\n",
    "test_s = [5,5,0,0,1,0,0,0,0,0]\n",
    "test_wiki = [3,2,3,0,1,2]\n",
    "k = 6\n",
    "\n",
    "print precision(k, test)\n",
    "print recall(k, test)\n",
    "print average_precision(k, test)\n",
    "print dcg(k, test_wiki)\n",
    "print ndcg(k, test_wiki)"
   ]
  },
  {
   "cell_type": "markdown",
   "metadata": {},
   "source": [
    "# Step 3"
   ]
  },
  {
   "cell_type": "code",
   "execution_count": 8,
   "metadata": {
    "collapsed": false
   },
   "outputs": [],
   "source": [
    "outperf_pairs=[]\n",
    "d_measure_precision=[]\n",
    "d_measure_dcg=[]\n",
    "#d_measure_RBP=[]\n",
    "\n",
    "rank = 3\n",
    "for i, elem in enumerate(E):\n",
    "    E_val, P_val = calculate_value(elem), calculate_value(P[i])\n",
    "    if(outperforms(E_val, P_val)):\n",
    "        outperf_pairs.append([E_val, P_val])\n",
    "        d_measure_precision.append(precision(rank, E_val) - precision(rank, P_val))\n",
    "        d_measure_dcg.append(dcg(rank, E_val) - dcg(rank, P_val))\n",
    "        #d_measure_RBP.append(RBP(pairs[i][1])-RBP(pairs[i][0]))"
   ]
  },
  {
   "cell_type": "code",
   "execution_count": 234,
   "metadata": {
    "collapsed": false
   },
   "outputs": [
    {
     "name": "stdout",
     "output_type": "stream",
     "text": [
      "25048\n"
     ]
    }
   ],
   "source": [
    "print len(outperf_pairs)"
   ]
  }
 ],
 "metadata": {
  "anaconda-cloud": {},
  "kernelspec": {
   "display_name": "Python [conda root]",
   "language": "python",
   "name": "conda-root-py"
  },
  "language_info": {
   "codemirror_mode": {
    "name": "ipython",
    "version": 3
   },
   "file_extension": ".py",
   "mimetype": "text/x-python",
   "name": "python",
   "nbconvert_exporter": "python",
   "pygments_lexer": "ipython3",
   "version": "3.5.2"
  }
 },
 "nbformat": 4,
 "nbformat_minor": 1
}
